{
 "cells": [
  {
   "cell_type": "code",
   "execution_count": 1,
   "metadata": {},
   "outputs": [],
   "source": [
    "from function import data_loader"
   ]
  },
  {
   "cell_type": "code",
   "execution_count": 5,
   "metadata": {},
   "outputs": [
    {
     "name": "stdout",
     "output_type": "stream",
     "text": [
      "vancouver_small_business_by_region.csv\n",
      "vancouver_business_size.csv\n",
      "vancouver_visits.csv\n",
      "vancouver_turism_indicators.csv\n",
      "vancouver_room_revenues_2010_2019.csv\n",
      "vancouver_employment_by_industry.csv\n",
      "region_codes.csv\n",
      "vancouver_employment_by_industry_legend.csv\n",
      "vancouver_room_revenues_2000_2010.csv\n",
      "brazil_unemployment.csv\n",
      "brazil_international_arrivals.csv\n",
      "brazil_gdp.csv\n",
      "brazil_monthly_income.csv\n",
      "brazil_tourism_jobs.csv\n",
      "london_ticket_sales.csv\n",
      "UK_inflation.csv\n",
      "london_underground_activity.csv\n",
      "london_infrastructure_spending.csv\n",
      "london_taxpayer_income.csv\n",
      "london_economic_activity.csv\n",
      "UK_international-visits.csv\n",
      "london_underground_station_info.csv\n",
      "london_earnings_by_borough.csv\n",
      "london_tickets_for_sale.csv\n",
      "london_sports_participation.csv\n"
     ]
    }
   ],
   "source": [
    "import os\n",
    "path = '/home/louis/summer_invitational_data_open_2020/data/'\n",
    "\n",
    "directory = os.path.join(path)\n",
    "for root,dirs,files in os.walk(directory):\n",
    "    for file in files:\n",
    "        if file.endswith(\".csv\"):\n",
    "            print(file)"
   ]
  },
  {
   "cell_type": "markdown",
   "metadata": {},
   "source": [
    "# London"
   ]
  },
  {
   "cell_type": "code",
   "execution_count": 2,
   "metadata": {},
   "outputs": [
    {
     "name": "stderr",
     "output_type": "stream",
     "text": [
      "/home/louis/.local/lib/python3.5/site-packages/IPython/core/interactiveshell.py:3326: DtypeWarning: Columns (0) have mixed types. Specify dtype option on import or set low_memory=False.\n",
      "  exec(code_obj, self.user_global_ns, self.user_ns)\n"
     ]
    },
    {
     "data": {
      "text/plain": [
       "['london_sports_participation',\n",
       " 'london_taxpayer_income',\n",
       " 'UK_inflation',\n",
       " 'london_economic_activity',\n",
       " 'london_earnings_by_borough',\n",
       " 'london_tickets_for_sale',\n",
       " 'london_underground_station_info',\n",
       " 'london_ticket_sales',\n",
       " 'london_underground_activity',\n",
       " 'london_infrastructure_spending',\n",
       " 'UK_international-visits']"
      ]
     },
     "execution_count": 2,
     "metadata": {},
     "output_type": "execute_result"
    }
   ],
   "source": [
    "london_dic = data_loader(path='/home/louis/summer_invitational_data_open_2020/data/', city='London')\n",
    "list(london_dic.keys())"
   ]
  },
  {
   "cell_type": "markdown",
   "metadata": {},
   "source": [
    "# Vancouver"
   ]
  },
  {
   "cell_type": "code",
   "execution_count": 3,
   "metadata": {},
   "outputs": [
    {
     "data": {
      "text/plain": [
       "['region_codes',\n",
       " 'vancouver_business_size',\n",
       " 'vancouver_room_revenues_2000_2010',\n",
       " 'vancouver_employment_by_industry',\n",
       " 'vancouver_employment_by_industry_legend',\n",
       " 'vancouver_visits',\n",
       " 'vancouver_room_revenues_2010_2019',\n",
       " 'vancouver_turism_indicators',\n",
       " 'vancouver_small_business_by_region']"
      ]
     },
     "execution_count": 3,
     "metadata": {},
     "output_type": "execute_result"
    }
   ],
   "source": [
    "vancouver_dic = data_loader(path='/home/louis/summer_invitational_data_open_2020/data/', city='Vancouver')\n",
    "list(vancouver_dic.keys())"
   ]
  },
  {
   "cell_type": "markdown",
   "metadata": {},
   "source": [
    "# Rio"
   ]
  },
  {
   "cell_type": "code",
   "execution_count": 4,
   "metadata": {},
   "outputs": [
    {
     "data": {
      "text/plain": [
       "['brazil_tourism_jobs',\n",
       " 'brazil_gdp',\n",
       " 'brazil_monthly_income',\n",
       " 'brazil_international_arrivals',\n",
       " 'brazil_unemployment']"
      ]
     },
     "execution_count": 4,
     "metadata": {},
     "output_type": "execute_result"
    }
   ],
   "source": [
    "rio_dic = data_loader(path='/home/louis/summer_invitational_data_open_2020/data/', city='Rio')\n",
    "list(rio_dic.keys())"
   ]
  },
  {
   "cell_type": "code",
   "execution_count": null,
   "metadata": {},
   "outputs": [],
   "source": []
  }
 ],
 "metadata": {
  "kernelspec": {
   "display_name": "Python 3",
   "language": "python",
   "name": "python3"
  },
  "language_info": {
   "codemirror_mode": {
    "name": "ipython",
    "version": 3
   },
   "file_extension": ".py",
   "mimetype": "text/x-python",
   "name": "python",
   "nbconvert_exporter": "python",
   "pygments_lexer": "ipython3",
   "version": "3.5.2"
  }
 },
 "nbformat": 4,
 "nbformat_minor": 4
}
