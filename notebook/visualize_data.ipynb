{
 "cells": [
  {
   "cell_type": "code",
   "execution_count": 1,
   "metadata": {},
   "outputs": [],
   "source": [
    "from function import data_loader"
   ]
  },
  {
   "cell_type": "markdown",
   "metadata": {},
   "source": [
    "# London"
   ]
  },
  {
   "cell_type": "code",
   "execution_count": 17,
   "metadata": {},
   "outputs": [
    {
     "data": {
      "text/plain": [
       "['region_codes',\n",
       " 'vancouver_employment_by_industry',\n",
       " 'vancouver_room_revenues_2010_2019',\n",
       " 'vancouver_small_business_by_region',\n",
       " 'vancouver_room_revenues_2000_2010',\n",
       " 'vancouver_visits',\n",
       " 'vancouver_employment_by_industry_legend',\n",
       " 'vancouver_turism_indicators',\n",
       " 'vancouver_business_size']"
      ]
     },
     "execution_count": 17,
     "metadata": {},
     "output_type": "execute_result"
    }
   ],
   "source": [
    "london_dic = data_loader(path='/home/louis/summer_invitational_data_open_2020/data/', city='London')\n",
    "list(dic.keys())"
   ]
  },
  {
   "cell_type": "markdown",
   "metadata": {},
   "source": [
    "# Vancouver"
   ]
  },
  {
   "cell_type": "code",
   "execution_count": 20,
   "metadata": {},
   "outputs": [
    {
     "data": {
      "text/plain": [
       "['region_codes',\n",
       " 'vancouver_employment_by_industry',\n",
       " 'vancouver_room_revenues_2010_2019',\n",
       " 'vancouver_small_business_by_region',\n",
       " 'vancouver_room_revenues_2000_2010',\n",
       " 'vancouver_visits',\n",
       " 'vancouver_employment_by_industry_legend',\n",
       " 'vancouver_turism_indicators',\n",
       " 'vancouver_business_size']"
      ]
     },
     "execution_count": 20,
     "metadata": {},
     "output_type": "execute_result"
    }
   ],
   "source": [
    "vancouver_dic = data_loader(path='/home/louis/summer_invitational_data_open_2020/data/', city='Vancouver')\n",
    "list(vancouver_dic.keys())"
   ]
  },
  {
   "cell_type": "markdown",
   "metadata": {},
   "source": [
    "# Rio"
   ]
  },
  {
   "cell_type": "code",
   "execution_count": 19,
   "metadata": {},
   "outputs": [
    {
     "data": {
      "text/plain": [
       "['brazil_international_arrivals',\n",
       " 'brazil_tourism_jobs',\n",
       " 'brazil_gdp',\n",
       " 'brazil_unemployment',\n",
       " 'brazil_monthly_income']"
      ]
     },
     "execution_count": 19,
     "metadata": {},
     "output_type": "execute_result"
    }
   ],
   "source": [
    "rio_dic = data_loader(path='/home/louis/summer_invitational_data_open_2020/data/', city='Rio')\n",
    "list(rio_dic.keys())"
   ]
  },
  {
   "cell_type": "code",
   "execution_count": null,
   "metadata": {},
   "outputs": [],
   "source": []
  }
 ],
 "metadata": {
  "kernelspec": {
   "display_name": "Python 3",
   "language": "python",
   "name": "python3"
  },
  "language_info": {
   "codemirror_mode": {
    "name": "ipython",
    "version": 3
   },
   "file_extension": ".py",
   "mimetype": "text/x-python",
   "name": "python",
   "nbconvert_exporter": "python",
   "pygments_lexer": "ipython3",
   "version": "3.5.2"
  }
 },
 "nbformat": 4,
 "nbformat_minor": 4
}
