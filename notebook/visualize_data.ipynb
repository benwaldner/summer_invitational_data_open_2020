{
 "cells": [
  {
   "cell_type": "code",
   "execution_count": 1,
   "metadata": {},
   "outputs": [],
   "source": [
    "from function import data_loader\n",
    "\n",
    "global_path = '../data/'"
   ]
  },
  {
   "cell_type": "markdown",
   "metadata": {},
   "source": [
    "# London"
   ]
  },
  {
   "cell_type": "code",
   "execution_count": 2,
   "metadata": {},
   "outputs": [
    {
     "name": "stderr",
     "output_type": "stream",
     "text": [
      "/home/louis/.local/lib/python3.5/site-packages/IPython/core/interactiveshell.py:3326: DtypeWarning: Columns (0) have mixed types. Specify dtype option on import or set low_memory=False.\n",
      "  exec(code_obj, self.user_global_ns, self.user_ns)\n"
     ]
    },
    {
     "data": {
      "text/plain": [
       "['london_infrastructure_spending',\n",
       " 'london_ticket_sales',\n",
       " 'london_taxpayer_income',\n",
       " 'london_tickets_for_sale',\n",
       " 'UK_inflation',\n",
       " 'london_sports_participation',\n",
       " 'london_economic_activity',\n",
       " 'UK_international-visits',\n",
       " 'london_earnings_by_borough',\n",
       " 'london_underground_activity',\n",
       " 'london_underground_station_info']"
      ]
     },
     "execution_count": 2,
     "metadata": {},
     "output_type": "execute_result"
    }
   ],
   "source": [
    "london_dic = data_loader(path=global_path, city='London')\n",
    "list(london_dic.keys())"
   ]
  },
  {
   "cell_type": "markdown",
   "metadata": {},
   "source": [
    "# Vancouver"
   ]
  },
  {
   "cell_type": "code",
   "execution_count": 3,
   "metadata": {},
   "outputs": [
    {
     "data": {
      "text/plain": [
       "['vancouver_room_revenues_2010_2019',\n",
       " 'vancouver_business_size',\n",
       " 'vancouver_turism_indicators',\n",
       " 'region_codes',\n",
       " 'vancouver_employment_by_industry_legend',\n",
       " 'vancouver_visits',\n",
       " 'vancouver_small_business_by_region',\n",
       " 'vancouver_employment_by_industry',\n",
       " 'vancouver_room_revenues_2000_2010']"
      ]
     },
     "execution_count": 3,
     "metadata": {},
     "output_type": "execute_result"
    }
   ],
   "source": [
    "vancouver_dic = data_loader(path=global_path, city='Vancouver')\n",
    "list(vancouver_dic.keys())"
   ]
  },
  {
   "cell_type": "markdown",
   "metadata": {},
   "source": [
    "# Rio"
   ]
  },
  {
   "cell_type": "code",
   "execution_count": 4,
   "metadata": {},
   "outputs": [
    {
     "data": {
      "text/plain": [
       "['brazil_unemployment',\n",
       " 'brazil_tourism_jobs',\n",
       " 'brazil_gdp',\n",
       " 'brazil_international_arrivals',\n",
       " 'brazil_monthly_income']"
      ]
     },
     "execution_count": 4,
     "metadata": {},
     "output_type": "execute_result"
    }
   ],
   "source": [
    "rio_dic = data_loader(path=global_path, city='Rio')\n",
    "list(rio_dic.keys())"
   ]
  },
  {
   "cell_type": "code",
   "execution_count": null,
   "metadata": {},
   "outputs": [],
   "source": []
  }
 ],
 "metadata": {
  "kernelspec": {
   "display_name": "Python 3",
   "language": "python",
   "name": "python3"
  },
  "language_info": {
   "codemirror_mode": {
    "name": "ipython",
    "version": 3
   },
   "file_extension": ".py",
   "mimetype": "text/x-python",
   "name": "python",
   "nbconvert_exporter": "python",
   "pygments_lexer": "ipython3",
   "version": "3.5.2"
  }
 },
 "nbformat": 4,
 "nbformat_minor": 4
}
