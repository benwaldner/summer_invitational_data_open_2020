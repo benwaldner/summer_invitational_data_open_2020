{
 "cells": [
  {
   "cell_type": "code",
   "execution_count": 1,
   "metadata": {},
   "outputs": [
    {
     "data": {
      "text/html": [
       "<style>.container { width:90% !important; }</style>"
      ],
      "text/plain": [
       "<IPython.core.display.HTML object>"
      ]
     },
     "metadata": {},
     "output_type": "display_data"
    }
   ],
   "source": [
    "from IPython.core.display import display, HTML\n",
    "display(HTML(\"<style>.container { width:90% !important; }</style>\"))"
   ]
  },
  {
   "cell_type": "code",
   "execution_count": null,
   "metadata": {},
   "outputs": [],
   "source": [
    "from function import data_loader\n",
    "import pandas as pd\n",
    "import matplotlib.pyplot as plt\n",
    "from matplotlib.ticker import FuncFormatter\n",
    "import seaborn as sns"
   ]
  },
  {
   "cell_type": "code",
   "execution_count": null,
   "metadata": {},
   "outputs": [],
   "source": [
    "dfs = data_loader(path='../data/', city='London')"
   ]
  },
  {
   "cell_type": "code",
   "execution_count": null,
   "metadata": {},
   "outputs": [],
   "source": [
    "for key, df_ in dfs.items():\n",
    "    if 'sport' in key:\n",
    "        print(key)\n",
    "        df = df_.set_index('year')\n",
    "        display(HTML(df.head(5).to_html()))"
   ]
  },
  {
   "cell_type": "code",
   "execution_count": null,
   "metadata": {},
   "outputs": [],
   "source": [
    "areas = df['area'].unique()\n",
    "years = df.index.unique()\n",
    "df_zero = df[df['sports_participation'] == 'zero']\n",
    "df_one = df[df['sports_participation'] == 'one+']\n",
    "df_three = df[df['sports_participation'] == 'three+']"
   ]
  },
  {
   "cell_type": "markdown",
   "metadata": {},
   "source": [
    "### Plot % of zero activity per borough/region"
   ]
  },
  {
   "cell_type": "code",
   "execution_count": null,
   "metadata": {},
   "outputs": [],
   "source": [
    "do_all = False\n",
    "\n",
    "with sns.axes_style('whitegrid'):\n",
    "    for area in areas:\n",
    "        if not do_all and area != 'Southwark':\n",
    "            continue\n",
    "        fig, ax = plt.subplots(figsize=(11, 7), nrows=1, ncols=1)\n",
    "        df_area = df_zero[df_zero['area'] == area]\n",
    "        if len(df_area) > 0:\n",
    "            df_area.dropna()['percentage'].plot(ax=ax)\n",
    "            ax.yaxis.set_major_formatter(FuncFormatter(lambda y, _: '{:.2%}'.format(y)))\n",
    "            ax.legend(loc='lower left')\n",
    "            ax.set_title(area)\n",
    "            plt.tight_layout()\n",
    "            plt.show()"
   ]
  },
  {
   "cell_type": "markdown",
   "metadata": {},
   "source": [
    "### Curvature index\n",
    "\n",
    "**Goal**: \n",
    "to be able to compare boroughs in terms of the impact of the Olympics on the sport participation; ideally, produce a single number to quantify the impact and its durability.\n",
    "\n",
    "**Methodology**:\n",
    "For many boroughs, it seems the year 2011-2012 witnessed a decrease in the 'zero' population, i.e a larger fraction of people exercised at least once in the week.\n",
    "This surge in sport activity seems to have reverted in the years after.\n",
    "\n",
    "We compute a curvature index:\n",
    "* ((mean of 'zero' % after - 'zero' % @2011-2012) - ('zero' % @2011-2012 - mean of 'zero' % before)) / 2\n",
    "\n",
    "In case of transient impact, the curvature at 2011-2012 should be high, indicating a peak in sport participation that quickly reverted.\n",
    "\n",
    "**Results**:\n",
    "The year 2012 corresponds indeed to a peak in sport participation, most likely driven by renewed interest in sports at the time of the Olympics and possibly local policies to promote sport and sport infrastructure. \n",
    "The curvature index is positive for many boroughs, indicating a transient impact (for instance the pro-sport policies may have only lasted for the summer 2012)."
   ]
  },
  {
   "cell_type": "code",
   "execution_count": null,
   "metadata": {},
   "outputs": [],
   "source": [
    "sport_min_year = dict()\n",
    "# sport_slope = dict()\n",
    "sport_curvature = dict()\n",
    "\n",
    "for area in areas:\n",
    "    df_area = df_zero[df_zero['area'] == area]\n",
    "    if len(df_area) > 0:\n",
    "        sport_min_year[area] = df_area['percentage'].idxmin()\n",
    "#         sport_slope[area] = (df_area.iloc[:6].mean()['percentage'] - df_area.iloc[5:].mean()['percentage'])\n",
    "        sport_curvature[area] = (\n",
    "            (df_area.iloc[6:].mean()['percentage'] - df_area.iloc[5]['percentage']) - (df_area.iloc[5]['percentage'] - df_area.iloc[:5].mean()['percentage'])\n",
    "        ) / 2\n",
    "sport_min_year = pd.Series(sport_min_year).sort_values()\n",
    "# sport_slope = pd.Series(sport_slope).sort_values()\n",
    "sport_curvature = pd.Series(sport_curvature).sort_values()\n",
    "\n",
    "with sns.axes_style('whitegrid'):\n",
    "    fig, axes = plt.subplots(figsize=(11, 14), nrows=2, ncols=1)\n",
    "    \n",
    "    ax = axes[0]\n",
    "    sport_min_year.hist(ax=ax, bins=len(years))\n",
    "    ax.set_title('Sport Best Year')\n",
    "    \n",
    "#     ax = axes[1]\n",
    "#     sport_slope.plot.bar(ax=ax)\n",
    "#     ax.set_title('Sport Slope Index')\n",
    "\n",
    "    ax = axes[1]\n",
    "    sport_curvature.plot.bar(ax=ax)\n",
    "    ax.set_title('Sport Curvature Index')\n",
    "    plt.tight_layout()\n",
    "    plt.show()"
   ]
  },
  {
   "cell_type": "markdown",
   "metadata": {},
   "source": [
    "### Total plot"
   ]
  },
  {
   "cell_type": "code",
   "execution_count": null,
   "metadata": {},
   "outputs": [],
   "source": [
    "with sns.axes_style('whitegrid'):\n",
    "    fig, ax = plt.subplots(figsize=(11, 7), nrows=1, ncols=1)\n",
    "#     df_zero[df_zero['area'] == 'Southwark'].dropna().sort_values('year')[['year', 'percentage']].set_index('year').plot(ax=ax)\n",
    "    df_zero.groupby('year').mean().sort_values('year')['percentage'].plot(ax=ax, color='r', label='zero')\n",
    "    df_one.groupby('year').mean().sort_values('year')['percentage'].plot(ax=ax, color='b', label='one+')\n",
    "    df_three.groupby('year').mean().sort_values('year')['percentage'].plot(ax=ax, color='g', label='three')\n",
    "    ax.yaxis.set_major_formatter(FuncFormatter(lambda y, _: '{:.2%}'.format(y)))\n",
    "    ax.legend(loc='lower left')\n",
    "    plt.tight_layout()\n",
    "    plt.show()"
   ]
  },
  {
   "cell_type": "code",
   "execution_count": null,
   "metadata": {},
   "outputs": [],
   "source": []
  }
 ],
 "metadata": {
  "kernelspec": {
   "display_name": "Python 3",
   "language": "python",
   "name": "python3"
  },
  "language_info": {
   "codemirror_mode": {
    "name": "ipython",
    "version": 3
   },
   "file_extension": ".py",
   "mimetype": "text/x-python",
   "name": "python",
   "nbconvert_exporter": "python",
   "pygments_lexer": "ipython3",
   "version": "3.7.4"
  }
 },
 "nbformat": 4,
 "nbformat_minor": 2
}
