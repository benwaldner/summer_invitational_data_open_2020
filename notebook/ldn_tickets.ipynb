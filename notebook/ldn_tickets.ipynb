{
 "cells": [
  {
   "cell_type": "code",
   "execution_count": 1,
   "metadata": {},
   "outputs": [
    {
     "data": {
      "text/html": [
       "<style>.container { width:90% !important; }</style>"
      ],
      "text/plain": [
       "<IPython.core.display.HTML object>"
      ]
     },
     "metadata": {},
     "output_type": "display_data"
    }
   ],
   "source": [
    "from IPython.core.display import display, HTML\n",
    "display(HTML(\"<style>.container { width:90% !important; }</style>\"))"
   ]
  },
  {
   "cell_type": "code",
   "execution_count": 46,
   "metadata": {},
   "outputs": [],
   "source": [
    "from function import data_loader\n",
    "import pandas as pd\n",
    "import matplotlib.pyplot as plt\n",
    "from matplotlib.ticker import FuncFormatter\n",
    "import seaborn as sns"
   ]
  },
  {
   "cell_type": "code",
   "execution_count": 67,
   "metadata": {},
   "outputs": [],
   "source": [
    "dfs = data_loader(path='../data/', city='London')"
   ]
  },
  {
   "cell_type": "code",
   "execution_count": 68,
   "metadata": {},
   "outputs": [],
   "source": [
    "df1 = dfs['london_tickets_for_sale']\n",
    "df2 = dfs['london_ticket_sales']\n",
    "df2.rename(columns={'session': 'code'}, inplace=True)\n",
    "\n",
    "session_map = df1[['code', 'venue', 'event']].drop_duplicates().set_index('code')"
   ]
  },
  {
   "cell_type": "markdown",
   "metadata": {},
   "source": [
    "# Join the two data frames\n",
    "\n",
    "Not that easy, information is more granular on 'london_tickets_for_sale', and 'london_ticket_sales' covers much less events."
   ]
  },
  {
   "cell_type": "code",
   "execution_count": 83,
   "metadata": {},
   "outputs": [],
   "source": [
    "# Hacky but that'll do\n",
    "\n",
    "def venue_lookup(code):\n",
    "    try:\n",
    "        venue = session_map.at[code, 'venue']\n",
    "        if 'Olympic Park' in venue:\n",
    "            return 'Olympic Park'\n",
    "        else:\n",
    "            return venue\n",
    "    except:\n",
    "        return None\n",
    "\n",
    "def event_lookup(code):\n",
    "    try:\n",
    "        return session_map.at[code, 'event']\n",
    "    except:\n",
    "        return None\n",
    "\n",
    "    \n",
    "df2['venue'] = df2.apply(lambda row: venue_lookup(row.code), axis=1)\n",
    "df2['event'] = df2.apply(lambda row: event_lookup(row.code), axis=1)"
   ]
  },
  {
   "cell_type": "code",
   "execution_count": 87,
   "metadata": {},
   "outputs": [
    {
     "data": {
      "text/html": [
       "<div>\n",
       "<style scoped>\n",
       "    .dataframe tbody tr th:only-of-type {\n",
       "        vertical-align: middle;\n",
       "    }\n",
       "\n",
       "    .dataframe tbody tr th {\n",
       "        vertical-align: top;\n",
       "    }\n",
       "\n",
       "    .dataframe thead th {\n",
       "        text-align: right;\n",
       "    }\n",
       "</style>\n",
       "<table border=\"1\" class=\"dataframe\">\n",
       "  <thead>\n",
       "    <tr style=\"text-align: right;\">\n",
       "      <th></th>\n",
       "      <th>date</th>\n",
       "      <th>time</th>\n",
       "      <th>gender</th>\n",
       "      <th>session</th>\n",
       "      <th>medal_ceremony</th>\n",
       "      <th>code</th>\n",
       "      <th>AA</th>\n",
       "      <th>A</th>\n",
       "      <th>B</th>\n",
       "      <th>C</th>\n",
       "      <th>D</th>\n",
       "      <th>E</th>\n",
       "      <th>limit</th>\n",
       "      <th>venue</th>\n",
       "      <th>event</th>\n",
       "    </tr>\n",
       "  </thead>\n",
       "  <tbody>\n",
       "    <tr>\n",
       "      <td>709</td>\n",
       "      <td>09-Aug</td>\n",
       "      <td>12:0015:00</td>\n",
       "      <td>W</td>\n",
       "      <td>Marathon Swimming 10km; victory ceremony</td>\n",
       "      <td>Y</td>\n",
       "      <td>SM001</td>\n",
       "      <td></td>\n",
       "      <td>60</td>\n",
       "      <td>40</td>\n",
       "      <td>20</td>\n",
       "      <td></td>\n",
       "      <td></td>\n",
       "      <td>10.0</td>\n",
       "      <td>Hyde Park</td>\n",
       "      <td>Swimming - Marathon</td>\n",
       "    </tr>\n",
       "    <tr>\n",
       "      <td>710</td>\n",
       "      <td>10-Aug</td>\n",
       "      <td>12:0015:00</td>\n",
       "      <td>M</td>\n",
       "      <td>Marathon Swimming 10km; victory ceremony</td>\n",
       "      <td>Y</td>\n",
       "      <td>SM002</td>\n",
       "      <td></td>\n",
       "      <td>60</td>\n",
       "      <td>40</td>\n",
       "      <td>20</td>\n",
       "      <td></td>\n",
       "      <td></td>\n",
       "      <td>10.0</td>\n",
       "      <td>Hyde Park</td>\n",
       "      <td>Swimming - Marathon</td>\n",
       "    </tr>\n",
       "    <tr>\n",
       "      <td>776</td>\n",
       "      <td>04-Aug</td>\n",
       "      <td>09:0011:40</td>\n",
       "      <td>W</td>\n",
       "      <td>Triathlon; victory ceremony</td>\n",
       "      <td>Y</td>\n",
       "      <td>TR001</td>\n",
       "      <td></td>\n",
       "      <td>60</td>\n",
       "      <td>40</td>\n",
       "      <td>20</td>\n",
       "      <td></td>\n",
       "      <td></td>\n",
       "      <td>10.0</td>\n",
       "      <td>Hyde Park</td>\n",
       "      <td>Triathlon</td>\n",
       "    </tr>\n",
       "    <tr>\n",
       "      <td>777</td>\n",
       "      <td>07-Aug</td>\n",
       "      <td>11:3014:00</td>\n",
       "      <td>M</td>\n",
       "      <td>Triathlon; victory ceremony</td>\n",
       "      <td>Y</td>\n",
       "      <td>TR002</td>\n",
       "      <td></td>\n",
       "      <td>60</td>\n",
       "      <td>40</td>\n",
       "      <td>20</td>\n",
       "      <td></td>\n",
       "      <td></td>\n",
       "      <td>10.0</td>\n",
       "      <td>Hyde Park</td>\n",
       "      <td>Triathlon</td>\n",
       "    </tr>\n",
       "  </tbody>\n",
       "</table>\n",
       "</div>"
      ],
      "text/plain": [
       "       date         time gender                                   session  \\\n",
       "709  09-Aug  12:0015:00      W  Marathon Swimming 10km; victory ceremony   \n",
       "710  10-Aug  12:0015:00      M  Marathon Swimming 10km; victory ceremony   \n",
       "776  04-Aug  09:0011:40      W               Triathlon; victory ceremony   \n",
       "777  07-Aug  11:3014:00      M               Triathlon; victory ceremony   \n",
       "\n",
       "    medal_ceremony   code AA   A   B   C  D  E  limit      venue  \\\n",
       "709              Y  SM001    60  40  20       10.0  Hyde Park   \n",
       "710              Y  SM002    60  40  20       10.0  Hyde Park   \n",
       "776              Y  TR001    60  40  20       10.0  Hyde Park   \n",
       "777              Y  TR002    60  40  20       10.0  Hyde Park   \n",
       "\n",
       "                   event  \n",
       "709  Swimming - Marathon  \n",
       "710  Swimming - Marathon  \n",
       "776            Triathlon  \n",
       "777            Triathlon  "
      ]
     },
     "execution_count": 87,
     "metadata": {},
     "output_type": "execute_result"
    }
   ],
   "source": [
    "df1[df1['venue'] == 'Hyde Park']"
   ]
  },
  {
   "cell_type": "code",
   "execution_count": 88,
   "metadata": {},
   "outputs": [
    {
     "data": {
      "text/html": [
       "<div>\n",
       "<style scoped>\n",
       "    .dataframe tbody tr th:only-of-type {\n",
       "        vertical-align: middle;\n",
       "    }\n",
       "\n",
       "    .dataframe tbody tr th {\n",
       "        vertical-align: top;\n",
       "    }\n",
       "\n",
       "    .dataframe thead th {\n",
       "        text-align: right;\n",
       "    }\n",
       "</style>\n",
       "<table border=\"1\" class=\"dataframe\">\n",
       "  <thead>\n",
       "    <tr style=\"text-align: right;\">\n",
       "      <th></th>\n",
       "      <th>code</th>\n",
       "      <th>price</th>\n",
       "      <th>number_sold</th>\n",
       "      <th>total_public_sold</th>\n",
       "      <th>percent_sold_to_public</th>\n",
       "      <th>venue</th>\n",
       "      <th>event</th>\n",
       "    </tr>\n",
       "  </thead>\n",
       "  <tbody>\n",
       "    <tr>\n",
       "      <td>892</td>\n",
       "      <td>TR001</td>\n",
       "      <td>60</td>\n",
       "      <td>314</td>\n",
       "      <td>1248</td>\n",
       "      <td>29.111267</td>\n",
       "      <td>Hyde Park</td>\n",
       "      <td>Triathlon</td>\n",
       "    </tr>\n",
       "    <tr>\n",
       "      <td>893</td>\n",
       "      <td>TR001</td>\n",
       "      <td>40</td>\n",
       "      <td>111</td>\n",
       "      <td>1248</td>\n",
       "      <td>29.111267</td>\n",
       "      <td>Hyde Park</td>\n",
       "      <td>Triathlon</td>\n",
       "    </tr>\n",
       "    <tr>\n",
       "      <td>894</td>\n",
       "      <td>TR001</td>\n",
       "      <td>20</td>\n",
       "      <td>642</td>\n",
       "      <td>1248</td>\n",
       "      <td>29.111267</td>\n",
       "      <td>Hyde Park</td>\n",
       "      <td>Triathlon</td>\n",
       "    </tr>\n",
       "    <tr>\n",
       "      <td>895</td>\n",
       "      <td>TR001</td>\n",
       "      <td>Special</td>\n",
       "      <td>181</td>\n",
       "      <td>1248</td>\n",
       "      <td>29.111267</td>\n",
       "      <td>Hyde Park</td>\n",
       "      <td>Triathlon</td>\n",
       "    </tr>\n",
       "    <tr>\n",
       "      <td>896</td>\n",
       "      <td>TR002</td>\n",
       "      <td>60</td>\n",
       "      <td>240</td>\n",
       "      <td>1046</td>\n",
       "      <td>24.179380</td>\n",
       "      <td>Hyde Park</td>\n",
       "      <td>Triathlon</td>\n",
       "    </tr>\n",
       "    <tr>\n",
       "      <td>897</td>\n",
       "      <td>TR002</td>\n",
       "      <td>40</td>\n",
       "      <td>93</td>\n",
       "      <td>1046</td>\n",
       "      <td>24.179380</td>\n",
       "      <td>Hyde Park</td>\n",
       "      <td>Triathlon</td>\n",
       "    </tr>\n",
       "    <tr>\n",
       "      <td>898</td>\n",
       "      <td>TR002</td>\n",
       "      <td>20</td>\n",
       "      <td>582</td>\n",
       "      <td>1046</td>\n",
       "      <td>24.179380</td>\n",
       "      <td>Hyde Park</td>\n",
       "      <td>Triathlon</td>\n",
       "    </tr>\n",
       "    <tr>\n",
       "      <td>899</td>\n",
       "      <td>TR002</td>\n",
       "      <td>Special</td>\n",
       "      <td>131</td>\n",
       "      <td>1046</td>\n",
       "      <td>24.179380</td>\n",
       "      <td>Hyde Park</td>\n",
       "      <td>Triathlon</td>\n",
       "    </tr>\n",
       "  </tbody>\n",
       "</table>\n",
       "</div>"
      ],
      "text/plain": [
       "      code    price  number_sold  total_public_sold  percent_sold_to_public  \\\n",
       "892  TR001       60          314               1248               29.111267   \n",
       "893  TR001       40          111               1248               29.111267   \n",
       "894  TR001       20          642               1248               29.111267   \n",
       "895  TR001  Special          181               1248               29.111267   \n",
       "896  TR002       60          240               1046               24.179380   \n",
       "897  TR002       40           93               1046               24.179380   \n",
       "898  TR002       20          582               1046               24.179380   \n",
       "899  TR002  Special          131               1046               24.179380   \n",
       "\n",
       "         venue      event  \n",
       "892  Hyde Park  Triathlon  \n",
       "893  Hyde Park  Triathlon  \n",
       "894  Hyde Park  Triathlon  \n",
       "895  Hyde Park  Triathlon  \n",
       "896  Hyde Park  Triathlon  \n",
       "897  Hyde Park  Triathlon  \n",
       "898  Hyde Park  Triathlon  \n",
       "899  Hyde Park  Triathlon  "
      ]
     },
     "execution_count": 88,
     "metadata": {},
     "output_type": "execute_result"
    }
   ],
   "source": [
    "df2[df2['venue'] == 'Hyde Park']"
   ]
  },
  {
   "cell_type": "markdown",
   "metadata": {},
   "source": [
    "# Total number of tickets sold to public by venues\n",
    "\n",
    "Is it usable? That does not look too good:\n",
    "1) it is only Central London (although that is the most informational I guess)\n",
    "2) some numbers are really low (Hyde Park : 2294 tickets sold? that's like 30s of traffic in a regular day)\n",
    "3) poor coverage"
   ]
  },
  {
   "cell_type": "code",
   "execution_count": 90,
   "metadata": {},
   "outputs": [
    {
     "data": {
      "text/plain": [
       "venue\n",
       "ExCeL                     162677\n",
       "Greenwich Park            205899\n",
       "Hyde Park                   2294\n",
       "North Greenwich Arena     122524\n",
       "Olympic Park             1374980\n",
       "The Mall                    3867\n",
       "Wembley Arena              10746\n",
       "Name: number_sold, dtype: int64"
      ]
     },
     "execution_count": 90,
     "metadata": {},
     "output_type": "execute_result"
    }
   ],
   "source": [
    "df2.groupby('venue')['number_sold'].sum()"
   ]
  },
  {
   "cell_type": "code",
   "execution_count": null,
   "metadata": {},
   "outputs": [],
   "source": []
  }
 ],
 "metadata": {
  "kernelspec": {
   "display_name": "Python 3",
   "language": "python",
   "name": "python3"
  },
  "language_info": {
   "codemirror_mode": {
    "name": "ipython",
    "version": 3
   },
   "file_extension": ".py",
   "mimetype": "text/x-python",
   "name": "python",
   "nbconvert_exporter": "python",
   "pygments_lexer": "ipython3",
   "version": "3.7.4"
  }
 },
 "nbformat": 4,
 "nbformat_minor": 2
}
